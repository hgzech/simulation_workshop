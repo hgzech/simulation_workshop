{
 "cells": [
  {
   "cell_type": "code",
   "execution_count": null,
   "metadata": {},
   "outputs": [],
   "source": [
    "# default_exp interactive_session"
   ]
  },
  {
   "cell_type": "markdown",
   "metadata": {},
   "source": [
    "# Interactive session "
   ]
  },
  {
   "cell_type": "markdown",
   "metadata": {},
   "source": [
    "## Challenge 1: Define the experiment.\n",
    "First we define how the experiment works.  Here, we will simulate a two-armed bandit experiment.  In the two-armed bandit task participants repeatedly choose between two stimuli. Each stimulus has a certain <b>reward probability</b>.  Participants complete several <b>trials</b> and their goal is to maximize <b>rewards</b>."
   ]
  },
  {
   "cell_type": "markdown",
   "metadata": {},
   "source": [
    "### Step 1:  Define the number of trials and reward probabilities.\n",
    "First, we have to decide on the number of trials and the reward probabilities for each stimulus.  Store the number of trials in a variable `Tr` and store the reward probabilities (one for each of the two stimuli) in variable `mu`.\n",
    "> Note: You can define these parameters however you want.  In the Collins paper there were 100 trials and the reward probabilities were .2 for one stimulus and .8 for the other."
   ]
  },
  {
   "cell_type": "markdown",
   "metadata": {},
   "source": [
    "<i>Enter your code here:</i>"
   ]
  },
  {
   "cell_type": "code",
   "execution_count": null,
   "metadata": {
    "tags": []
   },
   "outputs": [],
   "source": []
  },
  {
   "cell_type": "markdown",
   "metadata": {},
   "source": [
    "<i>Check the solution below:</i>"
   ]
  },
  {
   "cell_type": "code",
   "execution_count": 39,
   "metadata": {
    "tags": []
   },
   "outputs": [],
   "source": [
    "Tr = 100\n",
    "mu = c(.2, .8)"
   ]
  },
  {
   "cell_type": "markdown",
   "metadata": {},
   "source": [
    "### Step 2: Write the reward function.\n",
    "The reward function allocates reward stochastically based on reward probabilities. This function uses an action and the reward probabilities as inputs and returns either a reward of 1 or no reward (0).  \n",
    "\n",
    "It achieves this by generating a random number from a uniform distribution ranging from 0 and 1 (in R you can do this using `runif(1, min=0, max=1)`).\n",
    "\n",
    "Next, it compares the reward probability associated with the chosen action `mu[action]` to that number.  If it is lower or equal `<=` to the reward probability it returns 1 (reward) otherwise it returns 0 (no reward).\n",
    "\n",
    "> Note, in R you implement functions by writing:\n",
    "```\n",
    "allocate_reward = function(action, mu){ # choice and mu are your inputs\n",
    "    ...\n",
    "    return(reward) # reward is your return value\n",
    "    }\n",
    "```\n",
    "> You implement if statements, by writing:\n",
    "```\n",
    "if(...){\n",
    "    ...}\n",
    "else{\n",
    "    ...}\n",
    "```"
   ]
  },
  {
   "cell_type": "code",
   "execution_count": 46,
   "metadata": {},
   "outputs": [
    {
     "data": {
      "text/html": [
       "TRUE"
      ],
      "text/latex": [
       "TRUE"
      ],
      "text/markdown": [
       "TRUE"
      ],
      "text/plain": [
       "[1] TRUE"
      ]
     },
     "metadata": {},
     "output_type": "display_data"
    }
   ],
   "source": []
  },
  {
   "cell_type": "markdown",
   "metadata": {},
   "source": [
    "<i>Enter your code here:</i>"
   ]
  },
  {
   "cell_type": "code",
   "execution_count": null,
   "metadata": {},
   "outputs": [],
   "source": []
  },
  {
   "cell_type": "markdown",
   "metadata": {},
   "source": [
    "<i>Check the solution below:</i>"
   ]
  },
  {
   "cell_type": "code",
   "execution_count": 47,
   "metadata": {
    "tags": []
   },
   "outputs": [],
   "source": [
    "allocate_reward = function(action, mu){\n",
    "    rand = runif(1, min=0, max=1) # Chooses float from continuous uniform distribution between 0 and 1\n",
    "    if(rand <= mu[action]){ # If the random number is smaller than the chosen reward probability\n",
    "        return(1)} # reward allocated\n",
    "    else{\n",
    "        return(0)}\n",
    "}"
   ]
  },
  {
   "cell_type": "markdown",
   "metadata": {
    "tags": []
   },
   "source": [
    "## Challenge 2: Set up your first behavioral model (Rescorla-Wagner).\n",
    "The Rescorla-Wagner model consists of a softmax choice rule and a Q-learning update algorithm.  Initially, the model does not know which action is the best choice, so both actions should have the same Q-value."
   ]
  },
  {
   "cell_type": "markdown",
   "metadata": {},
   "source": [
    "### Step 1: Initialize your Q-values\n",
    "In this step you define the initial Q-values. Store them in a variable `Q`."
   ]
  },
  {
   "cell_type": "markdown",
   "metadata": {},
   "source": [
    "> Note: We will need to run some calculations with these Q-values.  To allow for this you'll have to place your Q-values into a vector `c(...,...)`.  The initial values should not matter much, but Collins et al. set them to .5."
   ]
  },
  {
   "cell_type": "markdown",
   "metadata": {},
   "source": [
    "<i>Enter your code here:</i>"
   ]
  },
  {
   "cell_type": "code",
   "execution_count": null,
   "metadata": {},
   "outputs": [],
   "source": []
  },
  {
   "cell_type": "markdown",
   "metadata": {},
   "source": [
    "<i>Check the solution below:</i>"
   ]
  },
  {
   "cell_type": "code",
   "execution_count": 48,
   "metadata": {
    "tags": []
   },
   "outputs": [],
   "source": [
    "Q = c(0.5, 0.5)"
   ]
  },
  {
   "cell_type": "markdown",
   "metadata": {},
   "source": [
    "### Step 2: Implement the softmax function.\n",
    "The softmax function determines <b>choice probabilities</b> based on Q-values using the following formula:\n",
    "\n",
    "$p_a = \\dfrac{exp(Q_{at}*beta)} {\\Sigma{exp(Q_{at}*beta)}}$\n",
    "\n",
    "As you can see, this function also introduces our first participant parameter the<b> inverse temperature (beta)</b>.  The larger beta the more deterministic (less random) a person's choices are."
   ]
  },
  {
   "cell_type": "markdown",
   "metadata": {},
   "source": [
    "> Bonus Question: What else does this function do, next to introducing beta?"
   ]
  },
  {
   "cell_type": "markdown",
   "metadata": {},
   "source": [
    "#### 2.2 Define beta\n",
    "First define beta and store it in the variable `beta`.  Here you can pick any positive value (we chose 4)."
   ]
  },
  {
   "cell_type": "markdown",
   "metadata": {},
   "source": [
    "> Bonus Question: Why does beta need to be positive?"
   ]
  },
  {
   "cell_type": "markdown",
   "metadata": {},
   "source": [
    "<i>Enter your code here:</i>"
   ]
  },
  {
   "cell_type": "code",
   "execution_count": null,
   "metadata": {},
   "outputs": [],
   "source": []
  },
  {
   "cell_type": "markdown",
   "metadata": {},
   "source": [
    "<i>Check the solution below:</i>"
   ]
  },
  {
   "cell_type": "code",
   "execution_count": 49,
   "metadata": {
    "tags": []
   },
   "outputs": [],
   "source": [
    "beta = 4"
   ]
  },
  {
   "cell_type": "markdown",
   "metadata": {},
   "source": [
    "#### 2.3 Implement the softmax function.\n",
    "> Note, remember in R you implement functions by writing:\n",
    "```\n",
    "softmax = function(Q, beta){ # Q and beta are your inputs\n",
    "    ...\n",
    "    return(p) # p is your return value\n",
    "    }\n",
    "```\n",
    "\n",
    "> To exponentiate an array you use `exp()` and to calculate the sum of a vector, you use `sum()`."
   ]
  },
  {
   "cell_type": "markdown",
   "metadata": {},
   "source": [
    "<i>Enter your code here:</i>"
   ]
  },
  {
   "cell_type": "code",
   "execution_count": null,
   "metadata": {},
   "outputs": [],
   "source": []
  },
  {
   "cell_type": "markdown",
   "metadata": {},
   "source": [
    "<i>Check the solution below:</i>"
   ]
  },
  {
   "cell_type": "code",
   "execution_count": 50,
   "metadata": {
    "tags": []
   },
   "outputs": [],
   "source": [
    "softmax = function(Q, beta){\n",
    "    p = exp(Q*beta) / sum(exp(Q*beta))\n",
    "    return(p)\n",
    "    }"
   ]
  },
  {
   "cell_type": "code",
   "execution_count": 51,
   "metadata": {},
   "outputs": [
    {
     "data": {
      "text/html": [
       "<ol class=list-inline>\n",
       "\t<li>0.5</li>\n",
       "\t<li>0.5</li>\n",
       "</ol>\n"
      ],
      "text/latex": [
       "\\begin{enumerate*}\n",
       "\\item 0.5\n",
       "\\item 0.5\n",
       "\\end{enumerate*}\n"
      ],
      "text/markdown": [
       "1. 0.5\n",
       "2. 0.5\n",
       "\n",
       "\n"
      ],
      "text/plain": [
       "[1] 0.5 0.5"
      ]
     },
     "metadata": {},
     "output_type": "display_data"
    }
   ],
   "source": [
    "softmax(Q, beta)"
   ]
  },
  {
   "cell_type": "markdown",
   "metadata": {},
   "source": [
    "### Step 3: Write a decision function.\n",
    "This function uses choice probabilities as an input and returns a concrete choice as an output.  It achieves this by first generating a random number from a uniform distribution ranging from 0 and 1 (in R you can do this using `runif(1, min=0, max=1)`).\n",
    "\n",
    "Next, it compares the first choice probability to this number.  If it is lower or equal to the choice probability the chosen action is 1 (1st slot machine), else the chosen action is 2 (2nd slot machine)."
   ]
  },
  {
   "cell_type": "markdown",
   "metadata": {},
   "source": [
    "> Note: Call this function `choose = function()`.  You will need an if statement.  Remember, in R, you define this as:\n",
    "```\n",
    "if(...){\n",
    "    ...}\n",
    "else{\n",
    "    ...}\n",
    "```"
   ]
  },
  {
   "cell_type": "markdown",
   "metadata": {},
   "source": [
    "<i>Enter your code here:</i>"
   ]
  },
  {
   "cell_type": "code",
   "execution_count": null,
   "metadata": {},
   "outputs": [],
   "source": [
    "choose = function(p){\n",
    "    rand = runif(1, min = 0, max = 1)\n",
    "    if(rand <= p[1]){\n",
    "        action = 1}\n",
    "    else{\n",
    "        action = 2}\n",
    "    return(action)\n",
    "    }"
   ]
  },
  {
   "cell_type": "markdown",
   "metadata": {},
   "source": [
    "<i>Check the solution below:</i>"
   ]
  },
  {
   "cell_type": "code",
   "execution_count": 52,
   "metadata": {
    "tags": []
   },
   "outputs": [],
   "source": [
    "choose = function(p){\n",
    "    rand = runif(1, min=0, max=1) # Chooses float from continuous uniform distribution between 0 and 1\n",
    "    if(rand <= p[1]){ # If the random number is smaller than our first p\n",
    "        chosen_action = 1} # ... the first option was chosen\n",
    "    else{\n",
    "        chosen_action = 2}\n",
    "    return(chosen_action)\n",
    "}"
   ]
  },
  {
   "cell_type": "markdown",
   "metadata": {},
   "source": [
    "### Step 4: Write the update function\n",
    "The update function updates Q-values based on the reward, according to this formula:\n",
    "$Q_{a,t+1} = Q_{a,t} + \\alpha (r - Q_{a,t})$\n",
    "\n",
    "As you can see, this function introduces another participant parameter: the <b>learning rate (alpha)</b>."
   ]
  },
  {
   "cell_type": "markdown",
   "metadata": {},
   "source": [
    "#### 4.1 Define alpha\n",
    "Pick a value between 0 and 1 (we chose .2) and store it as `alpha`."
   ]
  },
  {
   "cell_type": "markdown",
   "metadata": {},
   "source": [
    "<i>Enter your code here:</i>"
   ]
  },
  {
   "cell_type": "code",
   "execution_count": null,
   "metadata": {},
   "outputs": [],
   "source": []
  },
  {
   "cell_type": "markdown",
   "metadata": {},
   "source": [
    "<i>Check the solution below:</i>"
   ]
  },
  {
   "cell_type": "code",
   "execution_count": 53,
   "metadata": {
    "tags": []
   },
   "outputs": [],
   "source": [
    "alpha = .2"
   ]
  },
  {
   "cell_type": "markdown",
   "metadata": {},
   "source": [
    "#### 4.2: Write the update function\n",
    "Call this function `update_q_value()` with `Q`, `action`, `reward`, and `alpha` as inputs and `updated_q` and `delta` as outputs.  This function first calculates the prediction error and then updates Q."
   ]
  },
  {
   "cell_type": "markdown",
   "metadata": {},
   "source": [
    "<i>Enter your code here:</i>"
   ]
  },
  {
   "cell_type": "code",
   "execution_count": null,
   "metadata": {},
   "outputs": [],
   "source": []
  },
  {
   "cell_type": "markdown",
   "metadata": {},
   "source": [
    "<i>Check the solution below:</i>"
   ]
  },
  {
   "cell_type": "code",
   "execution_count": 54,
   "metadata": {
    "tags": []
   },
   "outputs": [],
   "source": [
    "update_q = function(Q, action, reward, alpha){\n",
    "    delta = reward - Q[action] # prediction error\n",
    "    Q[action] = Q[action] + alpha * delta\n",
    "    return(list(Q, delta))\n",
    "    }"
   ]
  },
  {
   "cell_type": "markdown",
   "metadata": {
    "tags": []
   },
   "source": [
    "### Step 5: Putting it all together\n",
    "Congratulations, you created all the components of your simulation function.  Now let's put them all together and simulate some data.  The simulation function (call it `simulate_M3RescorlaWagner_v1`) takes the experiment parameters, `mu` and `Tr`, as well as the participant parameters `alpha` and `beta` as inputs.\n",
    "\n",
    "> Note: Don't forget to initialize the q-values as we did in step 2.1.\n",
    "\n",
    "In each trial, we simulate an action chosen by the participant, allocate a reward, and update the participant's q-values accordingly.\n",
    "\n",
    "> Note: In R you write loops like this:\n",
    "```\n",
    "for(t in c(1:Tr)){\n",
    "    ...}\n",
    "```\n",
    "\n",
    "\n",
    "\n",
    "As outputs it returns the lists (i.e., vectors) `actions`, `rewards`, `Qs`, and `deltas` for each trial.\n",
    "\n",
    "> Note: You create vectors like this `actions = []` and add data to a vector like this: `actions=(actions, action)`.\n",
    "\n",
    "> Warning: For technical reasons, you have to initialize the vectors before appending, like: `actions = NULL`\n",
    "\n"
   ]
  },
  {
   "cell_type": "markdown",
   "metadata": {},
   "source": [
    "<i>Enter your code here:</i>"
   ]
  },
  {
   "cell_type": "code",
   "execution_count": null,
   "metadata": {},
   "outputs": [],
   "source": []
  },
  {
   "cell_type": "markdown",
   "metadata": {},
   "source": [
    "<i>Check the solution below:</i>"
   ]
  },
  {
   "cell_type": "code",
   "execution_count": 55,
   "metadata": {
    "tags": []
   },
   "outputs": [],
   "source": [
    "starting_q_values = c(0.5, 0.5)\n",
    "simulate_M3RescorlaWagner_v1 = function(Tr, mu, alpha, beta, starting_q_values){\n",
    "    Q = starting_q_values # Q are the Q-values the participant currently holds for each action\n",
    "    Qs = NULL\n",
    "    deltas = NULL\n",
    "    actions = NULL # the participants actions\n",
    "    rewards = NULL # the rewards received by the participant\n",
    "    \n",
    "    # Looping through trials\n",
    "    for(t in c(1:Tr)){ \n",
    "        Qs=c(Qs, Q)\n",
    "        p = softmax(Q, beta) # The probability with which a participant choses each action\n",
    "        action = choose(p) # The choice of the participant based on the choice probabilities\n",
    "        actions=c(actions,action) \n",
    "        reward = allocate_reward(action, mu) # The reward determined by the game for the action the participant chose\n",
    "        rewards=c(rewards,(as.integer(reward)))\n",
    "        list_update = update_q(Q, action, reward, alpha)\n",
    "        deltas=c(deltas,list_update[[2]])\n",
    "        Q = list_update[[1]]\n",
    "    }\n",
    "    return(list(actions, rewards, Qs, deltas))\n",
    "}        "
   ]
  },
  {
   "cell_type": "markdown",
   "metadata": {},
   "source": [
    "## Challenge 3: Explore the parameters\n",
    "We already wrote you a little function that simply uses your `simulate_M3RescorlaWagner_v1` function to simulate an experiment based on your parameters and plots its outputs in a figure. Below, we will go through some parameter combinations and explore their effects."
   ]
  },
  {
   "cell_type": "code",
   "execution_count": 56,
   "metadata": {},
   "outputs": [],
   "source": [
    "library(ggplot2)"
   ]
  },
  {
   "cell_type": "code",
   "execution_count": 86,
   "metadata": {
    "tags": []
   },
   "outputs": [],
   "source": [
    "plot_rescorla_game = function(Tr, mu, alpha, beta){\n",
    "  sim_list = simulate_M3RescorlaWagner_v1(Tr, mu, alpha, beta, starting_q_values)\n",
    "\n",
    "  actions = sim_list[[1]]\n",
    "  rewards = sim_list[[2]]\n",
    "  Qs = sim_list[[3]]\n",
    "  deltas = sim_list[[4]]\n",
    "  type = rep(c(\"Q1\", \"Q2\"),length(Qs)/2)\n",
    "  df_Qs = data.frame(values=Qs, type, trial = rep(c(1:Tr),each = 2))\n",
    "  df_pe = data.frame(values=deltas, type=\"pe\", trial = c(1:Tr))\n",
    "  df = rbind(df_Qs, df_pe)\n",
    "  plot = ggplot(df, aes(x = trial, y = values, group = type, color = type))+geom_line(size = 1.5)+\n",
    "    ylim(-1,1)+\n",
    "    theme_classic()+\n",
    "    theme(axis.title = element_text(size = 20, face = \"bold\")\n",
    "          , axis.title.y = element_text(vjust=2.0)\n",
    "          , axis.text.x = element_text(size = 20)\n",
    "          , axis.text.y = element_text(size = 20)\n",
    "          , strip.text.x = element_text(size=20, face = \"bold\")\n",
    "          , legend.title=element_blank()\n",
    "          , legend.text=element_text(size=20)\n",
    "          , axis.title.x=element_blank())\n",
    "  return(plot)\n",
    "}"
   ]
  },
  {
   "cell_type": "markdown",
   "metadata": {},
   "source": [
    "Here are some example parameter values:"
   ]
  },
  {
   "cell_type": "code",
   "execution_count": 61,
   "metadata": {},
   "outputs": [
    {
     "data": {
      "image/png": "[encoded data removed]",
      "text/plain": [
       "plot without title"
      ]
     },
     "metadata": {},
     "output_type": "display_data"
    }
   ],
   "source": [
    "Tr = 100 # number of trials\n",
    "mu = c(.2,.8) # reward probabilities\n",
    "alpha = .2 # learning rate\n",
    "beta = -4 # inverse temperature\n",
    "plot_rescorla_game(Tr, mu, alpha, beta)\n",
    "options(repr.plot.width=20, repr.plot.height=5)"
   ]
  },
  {
   "cell_type": "markdown",
   "metadata": {},
   "source": [
    "> Reducing the learning rate (participant does not manage to learn probabilities)"
   ]
  },
  {
   "cell_type": "code",
   "execution_count": 60,
   "metadata": {},
   "outputs": [
    {
     "data": {
      "image/png": "[encoded data removed]",
      "text/plain": [
       "plot without title"
      ]
     },
     "metadata": {},
     "output_type": "display_data"
    }
   ],
   "source": [
    "Tr = 100 # number of trials\n",
    "mu = c(.2,.8) # reward probabilities\n",
    "alpha = .01 # learning rate\n",
    "beta = 4 # inverse temperature\n",
    "plot_rescorla_game(Tr, mu, alpha, beta)"
   ]
  },
  {
   "cell_type": "markdown",
   "metadata": {},
   "source": [
    "> Let's give them more trials"
   ]
  },
  {
   "cell_type": "code",
   "execution_count": 62,
   "metadata": {},
   "outputs": [
    {
     "data": {
      "image/png": "[encoded data removed]",
      "text/plain": [
       "plot without title"
      ]
     },
     "metadata": {},
     "output_type": "display_data"
    }
   ],
   "source": [
    "Tr = 1000 # number of trials\n",
    "mu = c(.2,.8) # reward probabilities\n",
    "alpha = .01 # learning rate\n",
    "beta = 4 # inverse temperature\n",
    "plot_rescorla_game(Tr, mu, alpha, beta)"
   ]
  },
  {
   "cell_type": "markdown",
   "metadata": {},
   "source": [
    "> An extreme beta value makes participants stop exploring."
   ]
  },
  {
   "cell_type": "code",
   "execution_count": 63,
   "metadata": {},
   "outputs": [
    {
     "data": {
      "image/png": "[encoded data removed]",
      "text/plain": [
       "plot without title"
      ]
     },
     "metadata": {},
     "output_type": "display_data"
    }
   ],
   "source": [
    "Tr = 1000 # number of trials\n",
    "mu = c(.2,.8) # reward probabilities\n",
    "alpha = .01 # learning rate\n",
    "beta = 1000 # inverse temperature\n",
    "plot_rescorla_game(Tr, mu, alpha, beta)"
   ]
  },
  {
   "cell_type": "markdown",
   "metadata": {},
   "source": [
    "> If beta is very low, participants still learn, but they don't use that knowledge (something that we cannot see in this plot yet)."
   ]
  },
  {
   "cell_type": "code",
   "execution_count": null,
   "metadata": {},
   "outputs": [],
   "source": [
    "Tr = 1000 # number of trials\n",
    "mu = c(.2,.8) # reward probabilities\n",
    "alpha = .1 # learning rate\n",
    "beta = 0.0000000001 # inverse temperature\n",
    "plot_rescorla_game(Tr, mu, alpha, beta)"
   ]
  },
  {
   "cell_type": "markdown",
   "metadata": {},
   "source": [
    "## Challenge 4: Choice Kernel\n",
    "The only difference between choice kernel and rescorla-wagner is that the softmax function takes choice_kernel values instead of Q-values as inputs and the update function is indendent of rewards.  Therefore, we only need to change the update function."
   ]
  },
  {
   "cell_type": "markdown",
   "metadata": {},
   "source": [
    "### Step 1: Write a new update function\n",
    "The formula of the update function looks like this:\n",
    "\n",
    "$CK_{a,t+1} = CK_{a,t} + \\alpha * 1$\n",
    "\n",
    "Before the choice kernel is updated, both choice kernels decay with the inverse of the learning rate:\n",
    "\n",
    "$CK_{t+1} = CK_{t} * (1 - \\alpha) $\n",
    "\n",
    "\n",
    "Call this function `update_choice_kernels`, with the inputs `choice_kernel`, `action`, and `alpha`.\n",
    "\n",
    "> Note: If you're confused by the multiplication with one: This is only for comparability with the Rescorla-Wagner."
   ]
  },
  {
   "cell_type": "markdown",
   "metadata": {},
   "source": [
    "<i>Enter your code here:</i>"
   ]
  },
  {
   "cell_type": "code",
   "execution_count": null,
   "metadata": {},
   "outputs": [],
   "source": []
  },
  {
   "cell_type": "markdown",
   "metadata": {},
   "source": [
    "<i>Check the solution below:</i>"
   ]
  },
  {
   "cell_type": "code",
   "execution_count": 79,
   "metadata": {
    "tags": []
   },
   "outputs": [],
   "source": [
    "update_choice_kernels = function(choice_kernel, action, alpha){\n",
    "   # choice_kernel = (1 - alpha) * choice_kernel\n",
    "    choice_kernel[action] = choice_kernel[action] + alpha * 1\n",
    "    return(choice_kernel)\n",
    "    }"
   ]
  },
  {
   "cell_type": "code",
   "execution_count": 82,
   "metadata": {},
   "outputs": [
    {
     "data": {
      "text/html": [
       "<ol class=list-inline>\n",
       "\t<li>0.7</li>\n",
       "\t<li>0.6</li>\n",
       "</ol>\n"
      ],
      "text/latex": [
       "\\begin{enumerate*}\n",
       "\\item 0.7\n",
       "\\item 0.6\n",
       "\\end{enumerate*}\n"
      ],
      "text/markdown": [
       "1. 0.7\n",
       "2. 0.6\n",
       "\n",
       "\n"
      ],
      "text/plain": [
       "[1] 0.7 0.6"
      ]
     },
     "metadata": {},
     "output_type": "display_data"
    }
   ],
   "source": [
    "choice_kernel = c(0.5,0.6)\n",
    "update_choice_kernels(choice_kernel, 1, 0.2)"
   ]
  },
  {
   "cell_type": "markdown",
   "metadata": {},
   "source": [
    "### Step 2: Putting it all together.\n",
    "Now make a `simulate_M4ChoiceKernel_v1` function similar to the rescorla wagner function but with our new update function and choice kernels instead of Qs."
   ]
  },
  {
   "cell_type": "markdown",
   "metadata": {},
   "source": [
    "<i>Enter your code here:</i>"
   ]
  },
  {
   "cell_type": "code",
   "execution_count": null,
   "metadata": {},
   "outputs": [],
   "source": []
  },
  {
   "cell_type": "markdown",
   "metadata": {},
   "source": [
    "<i>Check the solution below:</i>"
   ]
  },
  {
   "cell_type": "code",
   "execution_count": 83,
   "metadata": {
    "tags": []
   },
   "outputs": [],
   "source": [
    "simulate_M4ChoiceKernel_v1 = function(Tr, mu, alpha_c, beta_c){\n",
    "    choice_kernel = c(0,0) # choice_kernel are the choice_kernel-values the participant currently holds for each action\n",
    "    choice_kernels = NULL\n",
    "    actions = NULL # the participants actions\n",
    "    rewards = NULL # the rewards received by the participant\n",
    "    # Looping through trials\n",
    "    for(t in c(1:Tr)){ \n",
    "        choice_kernels=c(choice_kernels, choice_kernel)\n",
    "        p = softmax(choice_kernel, beta) # The probability with which a participant choses each action\n",
    "        action = choose(p) # The choice of the participant based on the choice probabilities\n",
    "        actions=c(actions,action) \n",
    "        reward = allocate_reward(action, mu) # The reward probability determined by the game for the action the participant chose\n",
    "        rewards=c(rewards,(as.integer(reward)))\n",
    "        choice_kernel = update_choice_kernels(choice_kernel, action, alpha)\n",
    "    }\n",
    "    return(list(actions, rewards, choice_kernels))\n",
    "}"
   ]
  },
  {
   "cell_type": "markdown",
   "metadata": {},
   "source": [
    "> Note that choice_kernel decays with the inverted alpha in each trial `choice_kernel = (1 - alpha_c) * choice_kernel`"
   ]
  },
  {
   "cell_type": "markdown",
   "metadata": {},
   "source": [
    "## Challenge 5: Explore the parameters of your choice kernel simulations"
   ]
  },
  {
   "cell_type": "code",
   "execution_count": 87,
   "metadata": {},
   "outputs": [],
   "source": [
    "plot_choice_kernel_game = function(Tr, mu, alpha, beta){\n",
    "  sim_list = simulate_M4ChoiceKernel_v1(Tr, mu, alpha, beta)\n",
    "\n",
    "  actions = sim_list[[1]]\n",
    "  rewards = sim_list[[2]]\n",
    "  CKs = sim_list[[3]]\n",
    "  type = rep(c(\"CK1\", \"CK2\"),length(CKs)/2)\n",
    "  df_CKs = data.frame(values=CKs, type, trial = rep(c(1:Tr),each = 2))\n",
    "  df_action = data.frame(type = as.character(actions), values = -0.1, trial = c(1:Tr))\n",
    "  plot = ggplot(df_CKs, aes(x = trial, y = values, group = type, color = type))+geom_line(size = 2)+\n",
    "    #ylim(-0.2,1)+\n",
    "    theme_classic()\n",
    "  plot=plot+geom_point(data = df_action, size = 3)+\n",
    "    theme(axis.title = element_text(size = 20, face = \"bold\")\n",
    "          , axis.title.y = element_blank()\n",
    "          , axis.title.x=element_text(size = 20)\n",
    "          , axis.text.x = element_text(size = 20)\n",
    "          , axis.text.y = element_text(size = 20)\n",
    "          , legend.title=element_blank()\n",
    "          , legend.text=element_text(size=20)\n",
    "          )\n",
    "  plot =  plot+scale_color_manual(breaks = c(\"CK1\", \"CK2\", 1, 2),\n",
    "                        values=c(\"orange\", \"blue\", \"orange\", \"blue\"))\n",
    "  return(plot)\n",
    "}"
   ]
  },
  {
   "cell_type": "code",
   "execution_count": null,
   "metadata": {},
   "outputs": [],
   "source": [
    "# why do choice kernel values go to different directions ???"
   ]
  },
  {
   "cell_type": "code",
   "execution_count": 89,
   "metadata": {},
   "outputs": [
    {
     "data": {
      "image/png": "[encoded data removed]",
      "text/plain": [
       "plot without title"
      ]
     },
     "metadata": {},
     "output_type": "display_data"
    }
   ],
   "source": [
    "Tr = 100 # number of trials\n",
    "mu = c(.2,.8) # reward probabilities\n",
    "alpha = .2 # learning rate\n",
    "beta = 1 # inverse temperature\n",
    "plot_choice_kernel_game(Tr, mu, alpha, beta)"
   ]
  },
  {
   "cell_type": "code",
   "execution_count": null,
   "metadata": {},
   "outputs": [],
   "source": [
    "Tr = 100 # number of trials\n",
    "mu = c(.2,.8) # reward probabilities\n",
    "alpha = .2 # learning rate\n",
    "beta = .004 # inverse temperature\n",
    "plot_choice_kernel_game(Tr, mu, alpha, beta)"
   ]
  },
  {
   "cell_type": "code",
   "execution_count": null,
   "metadata": {},
   "outputs": [],
   "source": [
    "Tr = 500 # number of trials\n",
    "mu = c(.2,.8) # reward probabilities\n",
    "alpha = .2 # learning rate\n",
    "beta = 4 # inverse temperature\n",
    "plot_choice_kernel_game(Tr, mu, alpha, beta)"
   ]
  },
  {
   "cell_type": "markdown",
   "metadata": {},
   "source": [
    "> With a reasonably high beta one of the options should always move towards 1."
   ]
  },
  {
   "cell_type": "markdown",
   "metadata": {
    "tags": []
   },
   "source": [
    "# Reproducing Collins' figures\n",
    "![alt text](images/wilson_figure.png \"Title\")"
   ]
  },
  {
   "cell_type": "markdown",
   "metadata": {},
   "source": [
    "## Challenge 6: Reproducing Panel A\n",
    "Panel A shows the different in the probability of sticking to the same action (y-axis) depending on whether the last trial was a win or a loss (x-axis), split up by learning model (colors).  Here, we will only focus on the Rescorla-Wagner and the Choice Kernel model."
   ]
  },
  {
   "cell_type": "markdown",
   "metadata": {},
   "source": [
    "### Step 1\n",
    "Write a fuction that first defines last_action and last_reward.  Then determines whether a trial was a stay or switch trial.  Finally it calculates the proportion of stay trials depending on whether the last trial was rewarded or not rewarded and outputs the score for each case."
   ]
  },
  {
   "cell_type": "markdown",
   "metadata": {},
   "source": [
    "> You can use `data.table::shift(df$action)` to create variables that represent the value of the last row.  "
   ]
  },
  {
   "cell_type": "code",
   "execution_count": null,
   "metadata": {},
   "outputs": [],
   "source": [
    "analysis_WSLS_v1 = function(df){\n",
    "    # Shifting data back by one\n",
    "    df$last_action = data.table::shift(df$action)\n",
    "    df$last_reward = data.table::shift(df$reward)\n",
    "    # Deciding whether trial is stay trial\n",
    "    df$stay = 0\n",
    "    df$stay[df$last_action == df$action] = 1\n",
    "    # Calculating mean stay by case and outputing as series\n",
    "    loseStay = mean(df$stay[df$last_reward == 0],na.rm=TRUE)\n",
    "    winStay = mean(df$stay[df$last_reward == 1],na.rm=TRUE)\n",
    "    s = c(loseStay, winStay)\n",
    "    return(s)\n",
    "}"
   ]
  },
  {
   "cell_type": "markdown",
   "metadata": {},
   "source": [
    "### Step 2\n",
    "Simulate data for 110 participants using the Rescorla-Wagner model and store their proportion of stay trials depending on the last trial's reward in a dataframe.  Finally, you calculate the mean proportion of stay trials (for wins and losses) over all participants (call the variable `rw`), which we will use in the plot.\n",
    "\n",
    "For this, we will use the same experiment and participant parameters as Collins, below: "
   ]
  },
  {
   "cell_type": "code",
   "execution_count": null,
   "metadata": {},
   "outputs": [],
   "source": [
    "Tr = 100 \n",
    "mu = c(.2,.8)\n",
    "alpha = .1\n",
    "beta = 5\n",
    "participants = 110"
   ]
  },
  {
   "cell_type": "markdown",
   "metadata": {},
   "source": [
    "> Note: To turn the actions and rewards into a dataframe, you can use `df = data.frame(action = sim_list[[1]], reward = sim_list[[2]])`."
   ]
  },
  {
   "cell_type": "markdown",
   "metadata": {},
   "source": [
    "<i>Enter your code here:</i>"
   ]
  },
  {
   "cell_type": "code",
   "execution_count": null,
   "metadata": {},
   "outputs": [],
   "source": []
  },
  {
   "cell_type": "markdown",
   "metadata": {},
   "source": [
    "<i>Check the solution below:</i>"
   ]
  },
  {
   "cell_type": "code",
   "execution_count": null,
   "metadata": {
    "tags": []
   },
   "outputs": [],
   "source": [
    "alpha = .1 # learning rate\n",
    "beta = 5 # inverse temperature\n",
    "participants = 110\n",
    "data = data.frame()\n",
    "for(i in c(1:participants)){\n",
    "    sim_list = simulate_M3RescorlaWagner_v1(Tr, mu, alpha, beta, starting_q_values)\n",
    "    df = data.frame(action = sim_list[[1]], reward = sim_list[[2]])\n",
    "    data= rbind(data,\n",
    "                data.frame(pstay = analysis_WSLS_v1(df), \n",
    "                           type = c(\"loseStay\", \"winStay\"),\n",
    "                           model = \"rw\"))\n",
    "    }\n",
    "\n",
    "rw = aggregate(pstay~type+model, data, FUN = mean)\n",
    "rw"
   ]
  },
  {
   "cell_type": "markdown",
   "metadata": {},
   "source": [
    "### Step 3\n",
    "Now do the same for the choice kernel and call the variable `ck`.  Note that for this, Collins changed beta to 3."
   ]
  },
  {
   "cell_type": "markdown",
   "metadata": {},
   "source": [
    "<i>Enter your code here:</i>"
   ]
  },
  {
   "cell_type": "code",
   "execution_count": null,
   "metadata": {},
   "outputs": [],
   "source": []
  },
  {
   "cell_type": "markdown",
   "metadata": {},
   "source": [
    "<i>Check the solution below:</i>"
   ]
  },
  {
   "cell_type": "code",
   "execution_count": null,
   "metadata": {
    "tags": []
   },
   "outputs": [],
   "source": [
    "alpha = .1 # learning rate\n",
    "beta = 3 # inverse temperature\n",
    "participants = 110\n",
    "data = data.frame()\n",
    "for(i in c(1:participants)){\n",
    "    sim_list = simulate_M4ChoiceKernel_v1(Tr, mu, alpha, beta)\n",
    "    df = data.frame(action = sim_list[[1]], reward = sim_list[[2]])\n",
    "    data= rbind(data,\n",
    "                data.frame(pstay = analysis_WSLS_v1(df), \n",
    "                           type = c(\"loseStay\", \"winStay\"),\n",
    "                           model = \"ck\"))\n",
    "    }\n",
    "\n",
    "ck = aggregate(pstay~type+model, data, FUN = mean)\n",
    "ck"
   ]
  },
  {
   "cell_type": "markdown",
   "metadata": {},
   "source": [
    "### Step 4\n",
    "We plot everything together."
   ]
  },
  {
   "cell_type": "code",
   "execution_count": null,
   "metadata": {},
   "outputs": [],
   "source": [
    "df_a = rbind(rw, ck)\n",
    "df_a"
   ]
  },
  {
   "cell_type": "code",
   "execution_count": null,
   "metadata": {},
   "outputs": [],
   "source": [
    "plot_a = ggplot(df_a, aes(x = type, y = pstay, group = model, color = model))+geom_line(size = 1.5)+geom_point(size = 5)+\n",
    "theme_classic()+ylim(0,1)+ylab(\"p(stay)\")+xlab(\"previous trial\")+\n",
    "theme(axis.title = element_text(size = 14, face = \"bold\")\n",
    "          , axis.text.x = element_text(size = 10)\n",
    "          , axis.text.y = element_text(size = 10)\n",
    "          , legend.title=element_blank()\n",
    "          , legend.text=element_text(size=14)\n",
    "          )\n",
    "options(repr.plot.width=4, repr.plot.height=3)\n",
    "plot_a"
   ]
  },
  {
   "cell_type": "markdown",
   "metadata": {},
   "source": [
    "## Challenge 7: Reproducing Panel B\n",
    "To create Panel B, we simulate the proportion of correct choices (y-axis) split by different values of alpha (x-axis) and beta (colors), split by early (first ten) and late (last ten) trials (subpanels).  These are the alphas and betas that Collins uses for this plot:"
   ]
  },
  {
   "cell_type": "code",
   "execution_count": null,
   "metadata": {},
   "outputs": [],
   "source": [
    "alphas = seq(.02,1,by= .02)\n",
    "betas = c(1,2,5,10,20)\n",
    "length(alphas)*length(betas)*2"
   ]
  },
  {
   "cell_type": "markdown",
   "metadata": {},
   "source": [
    "### Step 1\n",
    "Write a nested loop that loops through 200 simulations, all alphas, and all betas.  In each iteration it simulates data using the Rescorla-Wagner model and outputs the proportion of correct choices (a choice is correct when the stimulus that is more likely to return a reward is picked) in the first and last ten trials.\n",
    "\n",
    "> Note: To store the output first make a `df` data frame and in each iteration make a `session_df` data frame which you append to the data.\n",
    "\n",
    "> Note: To get the correct action (i.e. the action associated with the highest reward probability, us `which.max(mu)`.\n",
    "\n",
    "> Note: Collins runs 1000 simulations, but because our code runs a bit slow, we recommend doing this 200 per alpha beta combination."
   ]
  },
  {
   "cell_type": "markdown",
   "metadata": {},
   "source": [
    "<i>Enter your code here:</i>"
   ]
  },
  {
   "cell_type": "code",
   "execution_count": null,
   "metadata": {},
   "outputs": [],
   "source": []
  },
  {
   "cell_type": "markdown",
   "metadata": {},
   "source": [
    "<i>Check the solution below:</i>"
   ]
  },
  {
   "cell_type": "code",
   "execution_count": null,
   "metadata": {
    "tags": []
   },
   "outputs": [],
   "source": [
    "starting_q_values = c(0.5,0.5)\n",
    "df = data.frame()\n",
    "for(i in c(1:200)){\n",
    "    for(alpha in alphas){\n",
    "        {for(beta in betas){\n",
    "            sim_list = simulate_M3RescorlaWagner_v1(Tr, mu, alpha, beta, starting_q_values)                                        \n",
    "            actions = sim_list[[1]]\n",
    "            imax = which.max(mu) # Mu max index\n",
    "            early = head(actions,10)\n",
    "            correct_early = length(early[early == (imax)])/length(early)\n",
    "            late = tail(actions,10)\n",
    "            correct_late = length(late[late == (imax)])/length(late)\n",
    "            session_df_early = data.frame(alpha=alpha, beta = beta, correct = correct_early, type = \"early trials\", index = i)\n",
    "            session_df_late = data.frame(alpha=alpha, beta = beta, correct = correct_late, type = \"late trials\", index = i)\n",
    "            session_df = rbind(session_df_early, session_df_late)\n",
    "            df = rbind(df, session_df)\n",
    "            }\n",
    "         }}}"
   ]
  },
  {
   "cell_type": "code",
   "execution_count": null,
   "metadata": {
    "tags": []
   },
   "outputs": [],
   "source": [
    "df_variation = df\n",
    "df_b = aggregate(correct~type+beta+alpha, df_variation, FUN = mean)\n",
    "df_b$beta = as.character(df_b$beta)"
   ]
  },
  {
   "cell_type": "markdown",
   "metadata": {},
   "source": [
    "![alt text](images/wilson_figure.png \"Title\")"
   ]
  },
  {
   "cell_type": "markdown",
   "metadata": {},
   "source": [
    "### Step 2 \n",
    "Let's plot this all together."
   ]
  },
  {
   "cell_type": "markdown",
   "metadata": {},
   "source": [
    "> Note: You can use `facet_wrap(~...)` to split the figure into multiple plots based on a variable; you can use `geom_line()` to make nice lineplots; to choose a color palette, you can use some extra packages (we already chose `viridis` --> `scale_color_viridis(discrete = TRUE, option = \"D\")`)."
   ]
  },
  {
   "cell_type": "markdown",
   "metadata": {},
   "source": [
    "<i>Enter your code here:</i>"
   ]
  },
  {
   "cell_type": "code",
   "execution_count": null,
   "metadata": {},
   "outputs": [],
   "source": []
  },
  {
   "cell_type": "markdown",
   "metadata": {},
   "source": [
    "<i>Check the solution below:</i>"
   ]
  },
  {
   "cell_type": "code",
   "execution_count": null,
   "metadata": {
    "tags": []
   },
   "outputs": [],
   "source": [
    "library(\"viridis\")     "
   ]
  },
  {
   "cell_type": "code",
   "execution_count": null,
   "metadata": {
    "tags": []
   },
   "outputs": [],
   "source": [
    "plot_b = ggplot(df_b, aes(x = alpha, y = correct, color = beta, group = beta)) + \n",
    "geom_line(size = 0.9) + facet_wrap(~type, scales = \"free\")+\n",
    "theme_classic()+ylab(\"correct (%)\")+\n",
    "theme(axis.title = element_text(size = 11)\n",
    "          , axis.text.x = element_text(size = 10)\n",
    "          , axis.text.y = element_text(size = 10)\n",
    "          , legend.text=element_text(size=11)\n",
    "          )+\n",
    "scale_color_viridis(discrete = TRUE, option = \"D\")\n",
    "options(repr.plot.width=7, repr.plot.height=3)\n",
    "plot_b"
   ]
  },
  {
   "cell_type": "markdown",
   "metadata": {},
   "source": [
    "# Well done! :)"
   ]
  },
  {
   "cell_type": "markdown",
   "metadata": {},
   "source": [
    "## Bonus Challenge: Combine all plots to make them look exactly as Collins'."
   ]
  },
  {
   "cell_type": "markdown",
   "metadata": {},
   "source": [
    "<i>Enter your code here:</i>"
   ]
  },
  {
   "cell_type": "code",
   "execution_count": null,
   "metadata": {},
   "outputs": [],
   "source": []
  },
  {
   "cell_type": "markdown",
   "metadata": {},
   "source": [
    "<i>Check the solution below:</i>"
   ]
  },
  {
   "cell_type": "code",
   "execution_count": null,
   "metadata": {},
   "outputs": [],
   "source": [
    "# No solution, you're on your own :p"
   ]
  }
 ],
 "metadata": {
  "kernelspec": {
   "display_name": "R",
   "language": "R",
   "name": "ir"
  },
  "language_info": {
   "codemirror_mode": "r",
   "file_extension": ".r",
   "mimetype": "text/x-r-source",
   "name": "R",
   "pygments_lexer": "r",
   "version": "3.6.1"
  }
 },
 "nbformat": 4,
 "nbformat_minor": 4
}
