{
 "cells": [
  {
   "cell_type": "code",
   "execution_count": null,
   "id": "91404d62-e7d2-4edd-9208-2e8a27676665",
   "metadata": {},
   "outputs": [],
   "source": [
    "# default_exp simulation"
   ]
  },
  {
   "cell_type": "markdown",
   "id": "2ca810fb-bb7b-4fb9-89ef-224f6d6a1a50",
   "metadata": {},
   "source": [
    "# Wilson Figure\n",
    "\n",
    "> In this notebook, we reproduce this figure:"
   ]
  },
  {
   "cell_type": "code",
   "execution_count": null,
   "id": "56e32bb5-e61c-480e-a8c8-a612f91869e2",
   "metadata": {},
   "outputs": [],
   "source": [
    "#hide\n",
    "from nbdev.showdoc import *"
   ]
  },
  {
   "cell_type": "markdown",
   "id": "9f71464e-506e-4304-b72e-37af91889992",
   "metadata": {},
   "source": [
    "![alt text](images/wilson_figure.png \"Title\")"
   ]
  },
  {
   "cell_type": "code",
   "execution_count": null,
   "id": "ba7f6265-9dc8-4c3b-a84d-0205855b3e83",
   "metadata": {},
   "outputs": [],
   "source": [
    "import simulation_workshop.simulation as sim\n",
    "import pandas as pd\n",
    "import seaborn as sns\n",
    "%matplotlib inline\n",
    "%config InlineBackend.figure_format = 'retina'"
   ]
  },
  {
   "cell_type": "code",
   "execution_count": null,
   "id": "42b40dbc-58c7-4a43-8dfd-5cbe747fbe66",
   "metadata": {},
   "outputs": [],
   "source": [
    "T = 100 # number of trials\n",
    "mu = [.2,.8] # reward probabilities\n",
    "alpha = .2 # learning rate\n",
    "beta = 4 # inverse temperature\n",
    "actions, rewards, Cks = sim.simulate_M4ChoiceKernel_v1(T, mu, alpha, beta)\n",
    "df = pd.DataFrame({'action':actions, 'reward':rewards})"
   ]
  },
  {
   "cell_type": "code",
   "execution_count": null,
   "id": "5b4a892f-ff02-44aa-8ed5-ebe85ba06b49",
   "metadata": {},
   "outputs": [],
   "source": [
    "def analysis_WSLS_v1(df):\n",
    "    df['last_action'] = df.action.shift(1)\n",
    "    df['last_reward'] = df.reward.shift(1)\n",
    "    df['stay'] = (df.action == df.last_action).astype(int)\n",
    "    output = df.groupby(['last_reward']).stay.mean()\n",
    "    loseStay = output.loc[0]\n",
    "    winStay = output.loc[1]\n",
    "    s = pd.Series([loseStay, winStay])\n",
    "    return s"
   ]
  },
  {
   "cell_type": "markdown",
   "id": "75f7763d-1c81-4329-ad7e-36f1725169b9",
   "metadata": {},
   "source": [
    "## Panel A"
   ]
  },
  {
   "cell_type": "markdown",
   "id": "03ca0aa6-4a0e-44c7-9d40-348b540c6893",
   "metadata": {},
   "source": [
    "### Choice Kernel"
   ]
  },
  {
   "cell_type": "code",
   "execution_count": null,
   "id": "f21f99be-5740-4516-90d1-b40b0221a762",
   "metadata": {},
   "outputs": [
    {
     "data": {
      "text/plain": [
       "loseStay    0.716256\n",
       "winStay     0.750518\n",
       "dtype: float64"
      ]
     },
     "execution_count": null,
     "metadata": {},
     "output_type": "execute_result"
    }
   ],
   "source": [
    "alpha = .1 # learning rate\n",
    "beta = 3 # inverse temperature\n",
    "nrep = 110\n",
    "data = []\n",
    "for i in range(nrep):\n",
    "    actions, rewards, Cks = sim.simulate_M4ChoiceKernel_v1(T, mu, alpha, beta)\n",
    "    df = pd.DataFrame({'action':actions, 'reward':rewards})\n",
    "    data.append(analysis_WSLS_v1(df))\n",
    "df = pd.DataFrame(data)\n",
    "df.columns = ['loseStay','winStay']\n",
    "ck = df.mean()\n",
    "ck"
   ]
  },
  {
   "cell_type": "markdown",
   "id": "55bd037a-3e79-45ab-a99b-b8d58456d523",
   "metadata": {},
   "source": [
    "### Rescorla Wagner"
   ]
  },
  {
   "cell_type": "code",
   "execution_count": null,
   "id": "0714a238-31e0-45bb-a0ae-241af7a81317",
   "metadata": {},
   "outputs": [
    {
     "data": {
      "text/plain": [
       "loseStay    0.600911\n",
       "winStay     0.884549\n",
       "dtype: float64"
      ]
     },
     "execution_count": null,
     "metadata": {},
     "output_type": "execute_result"
    }
   ],
   "source": [
    "alpha = .1 # learning rate\n",
    "beta = 5 # inverse temperature\n",
    "nrep = 110\n",
    "data = []\n",
    "for i in range(nrep):\n",
    "    actions, rewards, Cks, _ = sim.simulate_M3RescorlaWagner_v1(T, mu, alpha, beta)\n",
    "    df = pd.DataFrame({'action':actions, 'reward':rewards})\n",
    "    data.append(analysis_WSLS_v1(df))\n",
    "df = pd.DataFrame(data)\n",
    "df.columns = ['loseStay','winStay']\n",
    "rw = df.mean()\n",
    "rw"
   ]
  },
  {
   "cell_type": "markdown",
   "id": "098c6e05-7753-408d-b1cd-b557729096ca",
   "metadata": {},
   "source": [
    "### Rough plot \n",
    "ToDo: Make nicer."
   ]
  },
  {
   "cell_type": "code",
   "execution_count": null,
   "id": "47ab570e-7c23-4d5f-9848-6cee62b0e1b6",
   "metadata": {},
   "outputs": [
    {
     "data": {
      "image/png": "[encoded data removed]",
      "text/plain": [
       "<Figure size 432x288 with 1 Axes>"
      ]
     },
     "metadata": {
      "image/png": {
       "height": 248,
       "width": 378
      },
      "needs_background": "light"
     },
     "output_type": "display_data"
    }
   ],
   "source": [
    "ax = ck.plot()\n",
    "ax = rw.plot(ax = ax)\n",
    "sns.despine()"
   ]
  },
  {
   "cell_type": "markdown",
   "id": "992b7214-1fcb-44f7-9143-1633c4c39b42",
   "metadata": {},
   "source": [
    "## Panel B"
   ]
  },
  {
   "cell_type": "code",
   "execution_count": null,
   "id": "2b99bd82-3018-4b62-8692-e501ca6bc6ad",
   "metadata": {},
   "outputs": [
    {
     "data": {
      "text/plain": [
       "array([0.02, 0.04, 0.06, 0.08, 0.1 , 0.12, 0.14, 0.16, 0.18, 0.2 , 0.22,\n",
       "       0.24, 0.26, 0.28, 0.3 , 0.32, 0.34, 0.36, 0.38, 0.4 , 0.42, 0.44,\n",
       "       0.46, 0.48, 0.5 , 0.52, 0.54, 0.56, 0.58, 0.6 , 0.62, 0.64, 0.66,\n",
       "       0.68, 0.7 , 0.72, 0.74, 0.76, 0.78, 0.8 , 0.82, 0.84, 0.86, 0.88,\n",
       "       0.9 , 0.92, 0.94, 0.96, 0.98, 1.  ])"
      ]
     },
     "execution_count": null,
     "metadata": {},
     "output_type": "execute_result"
    }
   ],
   "source": [
    "import numpy as np\n",
    "np.arange(.02, 1.02, .02)"
   ]
  },
  {
   "cell_type": "code",
   "execution_count": null,
   "id": "318182ff-bbfc-495e-b552-20e3eda2542e",
   "metadata": {},
   "outputs": [
    {
     "ename": "TypeError",
     "evalue": "'float' object cannot be interpreted as an integer",
     "output_type": "error",
     "traceback": [
      "\u001b[0;31m---------------------------------------------------------------------------\u001b[0m",
      "\u001b[0;31mTypeError\u001b[0m                                 Traceback (most recent call last)",
      "\u001b[0;32m/var/folders/16/2wxbnpk5321f8g40bxf0ht_h0000gn/T/ipykernel_20592/3113017996.py\u001b[0m in \u001b[0;36m<module>\u001b[0;34m\u001b[0m\n\u001b[0;32m----> 1\u001b[0;31m \u001b[0malphas\u001b[0m \u001b[0;34m=\u001b[0m \u001b[0mrange\u001b[0m\u001b[0;34m(\u001b[0m\u001b[0;36m.02\u001b[0m\u001b[0;34m,\u001b[0m\u001b[0;36m1\u001b[0m\u001b[0;34m,\u001b[0m \u001b[0;36m.02\u001b[0m\u001b[0;34m)\u001b[0m\u001b[0;34m\u001b[0m\u001b[0;34m\u001b[0m\u001b[0m\n\u001b[0m\u001b[1;32m      2\u001b[0m \u001b[0mprint\u001b[0m\u001b[0;34m(\u001b[0m\u001b[0mlist\u001b[0m\u001b[0;34m(\u001b[0m\u001b[0malphas\u001b[0m\u001b[0;34m)\u001b[0m\u001b[0;34m)\u001b[0m\u001b[0;34m\u001b[0m\u001b[0;34m\u001b[0m\u001b[0m\n\u001b[1;32m      3\u001b[0m \u001b[0mbetas\u001b[0m \u001b[0;34m=\u001b[0m \u001b[0;34m[\u001b[0m\u001b[0;36m1\u001b[0m\u001b[0;34m,\u001b[0m\u001b[0;36m2\u001b[0m\u001b[0;34m,\u001b[0m\u001b[0;36m5\u001b[0m\u001b[0;34m,\u001b[0m\u001b[0;36m10\u001b[0m\u001b[0;34m,\u001b[0m\u001b[0;36m20\u001b[0m\u001b[0;34m]\u001b[0m\u001b[0;34m\u001b[0m\u001b[0;34m\u001b[0m\u001b[0m\n",
      "\u001b[0;31mTypeError\u001b[0m: 'float' object cannot be interpreted as an integer"
     ]
    }
   ],
   "source": [
    "alphas = list(np.arange(.02, 1.02, .02))\n",
    "print(list(alphas))\n",
    "betas = [1,2,5,10,20]"
   ]
  },
  {
   "cell_type": "code",
   "execution_count": null,
   "id": "7ac5b372-7238-4481-86c7-8607cbe36865",
   "metadata": {},
   "outputs": [],
   "source": [
    "\n",
    "%% p(correct) analysis\n",
    "alphas = [0.02:0.02:1];\n",
    "betas = [1 2 5 10 20];\n",
    "\n",
    "for n = 1:1000\n",
    "    n\n",
    "    for i = 1:length(alphas)\n",
    "        for j = 1:length(betas)\n",
    "            [a, r] = simulate_M3RescorlaWagner_v1(T, mu, alphas(i), betas(j));\n",
    "            [~,imax] = max(mu);\n",
    "            correct(i,j,n) = nanmean(a == imax);\n",
    "            correctEarly(i,j,n) = nanmean(a(1:10) == imax);\n",
    "            correctLate(i,j,n) = nanmean(a(end-9:end) == imax);\n",
    "        end\n",
    "    end\n",
    "end\n",
    "\n",
    "%% plot p(correct) behavior\n",
    "figure(1); \n",
    "E = nanmean(correctEarly,3);\n",
    "L = nanmean(correctLate,3);\n",
    "\n",
    "figure(1); clf; \n",
    "set(gcf, 'Position', [284   498   750   300])\n",
    "ax = easy_gridOfEqualFigures([0.2 0.1], [0.08 0.14 0.05 0.03]);\n",
    "\n",
    "axes(ax(1)); hold on;\n",
    "l = plot([0 1], wsls);\n",
    "ylim([0 1])\n",
    "set(l, 'marker', '.', 'markersize', 50, 'linewidth', 3)\n",
    "leg1 = legend({'M1: random' 'M2: WSLS' 'M3: RW' 'M4: CK' 'M5: RW+CK'}, ...\n",
    "    'location', 'southeast');\n",
    "xlabel('previous reward')\n",
    "% ylabel('probability of staying')\n",
    "ylabel('p(stay)')\n",
    "title('stay behavior', 'fontweight', 'normal')\n",
    "xlim([-0.1 1.1]);\n",
    "ylim([0 1.04])\n",
    "set(ax(1), 'xtick', [0 1])\n",
    "set(leg1, 'fontsize', 12)\n",
    "set(leg1, 'position', [0.19    0.2133    0.1440    0.2617])\n",
    "set(ax(1), 'ytick', [0 0.5 1])\n",
    "\n",
    "axes(ax(2)); hold on;\n",
    "l1 = plot(alphas, E);\n",
    "xlabel('learning rate, \\alpha')\n",
    "ylabel('p(correct)')\n",
    "title('early trials', 'fontweight', 'normal')\n",
    "\n",
    "for i = 1:length(betas)\n",
    "    leg{i} = ['\\beta = ' num2str(betas(i))];\n",
    "end\n",
    "leg2 = legend(l1(end:-1:1), {leg{end:-1:1}});\n",
    "\n",
    "set([leg1 leg2], 'fontsize', 12)\n",
    "set(leg2, 'position', [0.6267    0.6453    0.1007    0.2617]);\n",
    "\n",
    "axes(ax(3)); hold on;\n",
    "l2 = plot(alphas, L);\n",
    "xlabel('learning rate, \\alpha')\n",
    "% ylabel('p(correct)')\n",
    "title('late trials', 'fontweight', 'normal')\n",
    "for i = 1:length(l1)\n",
    "    f = (i-1)/(length(l1)-1);\n",
    "    set([l1(i) l2(i)], 'color', AZred*f + AZblue*(1-f));\n",
    "end\n",
    "set([l1 l2], 'linewidth', 3)\n",
    "set(ax(3), 'yticklabel', [])\n",
    "\n",
    "set(ax(2:3), 'ylim', [0.5 1.02])\n",
    "set(ax, 'fontsize', 18, 'tickdir', 'out')\n",
    "addABCs(ax(1:2), [-0.06 0.09], 32)\n",
    "\n",
    "\n",
    "%% save resulting figure\n",
    "saveFigurePdf(gcf, './Figures/Figure2')\n",
    "\n",
    "    © 2021 GitHub, Inc.\n",
    "\n",
    "    Terms\n",
    "    Privacy\n",
    "    Security\n",
    "    Status\n",
    "    Docs\n",
    "    Contact GitHub\n",
    "    Pricing\n",
    "    API\n",
    "    Training\n",
    "    Blog\n",
    "    About\n",
    "\n"
   ]
  }
 ],
 "metadata": {
  "kernelspec": {
   "display_name": "Python 3 (ipykernel)",
   "language": "python",
   "name": "python3"
  }
 },
 "nbformat": 4,
 "nbformat_minor": 5
}
