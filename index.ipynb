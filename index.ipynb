{
 "cells": [
  {
   "cell_type": "code",
   "execution_count": null,
   "metadata": {},
   "outputs": [],
   "source": [
    "#hide\n",
    "#from your_lib.core import *"
   ]
  },
  {
   "cell_type": "markdown",
   "metadata": {},
   "source": [
    "# Simulation workshop\n",
    "\n",
    "> This is the project for our simulation workshop."
   ]
  },
  {
   "cell_type": "markdown",
   "metadata": {},
   "source": [
    "## Getting started with Notebooks (optional but recommended)\n",
    "\n",
    "Have a look at these instructions.  If this does not work for you let us know and we will try to help."
   ]
  },
  {
   "cell_type": "markdown",
   "metadata": {},
   "source": [
    "https://docs.anaconda.com/anaconda/navigator/tutorials/r-lang/\n",
    "\n",
    "https://dzone.com/articles/using-r-on-jupyternbspnotebook\n",
    "\n",
    "http://jmlilly.net/jupyter-matlab"
   ]
  },
  {
   "cell_type": "markdown",
   "metadata": {},
   "source": [
    "# Schedule\n",
    "Times are in German time.\n",
    "\n",
    "## Introduction, 9:00 - 9:30\n",
    "- Why simulation is important\n",
    "- Refresher Rescorla-Wagner and Choice Kernel\n",
    "\n",
    "## Implementing models (interactive in groups), 9:30 - 10:30\n",
    "\n",
    "## Break, 10:30 - 10:45\n",
    "\n",
    "## Discussion of experiences, 10:45 - 11:30\n",
    "\n",
    "## Implementing combined learning models (interactive in groups), 11:30 - 12:00\n",
    "\n",
    "## Discussion 12:30"
   ]
  }
 ],
 "metadata": {
  "kernelspec": {
   "display_name": "Python 3 (ipykernel)",
   "language": "python",
   "name": "python3"
  }
 },
 "nbformat": 4,
 "nbformat_minor": 4
}
