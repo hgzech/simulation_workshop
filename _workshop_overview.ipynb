{
 "cells": [
  {
   "cell_type": "markdown",
   "id": "09962b9e-4901-4bfd-adba-31356c171bdb",
   "metadata": {},
   "source": [
    "1) Little introduction\n",
    "\n",
    "2) Split into teams\n",
    "\n",
    "3) Go through choice kernel Hide functions and ask people to fill in:\n",
    "\n",
    "Here you need to do x, y, z -> Then you see solution\n",
    "...or guided tour through code\n",
    "\n",
    "4) Play around with model parameters (have one expert in each team)\n",
    "\n",
    "5) Get people get back together and debate general things\n",
    "\n",
    "6) Combine the two models in individual teams "
   ]
  },
  {
   "cell_type": "markdown",
   "id": "984d9af8-502c-485b-b0a7-1efe694173a2",
   "metadata": {},
   "source": [
    "## Here you implement an R-W model"
   ]
  },
  {
   "cell_type": "markdown",
   "id": "2c6ee111-8ab6-4a2a-a06c-1eaa225889b8",
   "metadata": {},
   "source": [
    "### How do you calculate choice probabilities?\n",
    "Write a function that takes as an input Q and beta"
   ]
  },
  {
   "cell_type": "code",
   "execution_count": null,
   "id": "f44e3b21-789f-42be-89d2-8f5de7b409e4",
   "metadata": {},
   "outputs": [],
   "source": [
    "def calculate_choice_probabilities(Q, beta):\n",
    "    p = np.exp(Q*beta) / sum(np.exp(Q*beta)) \n",
    "    # implement here\n",
    "    return p"
   ]
  },
  {
   "cell_type": "markdown",
   "id": "cec27505-1b61-4ed1-8d57-735056b58849",
   "metadata": {},
   "source": [
    "## Test your function"
   ]
  },
  {
   "cell_type": "code",
   "execution_count": null,
   "id": "3faa6377-aff7-4553-87dd-726ed3a84cc1",
   "metadata": {},
   "outputs": [
    {
     "data": {
      "text/plain": [
       "True"
      ]
     },
     "execution_count": null,
     "metadata": {},
     "output_type": "execute_result"
    }
   ],
   "source": [
    "bool(np.mean([.5, .5 ] == calculate_choice_probabilities(np.array([.5,.5]), 4)))"
   ]
  },
  {
   "cell_type": "markdown",
   "id": "31b25311-54b1-4c3d-9479-3d34fc481a9e",
   "metadata": {},
   "source": [
    "### Solution"
   ]
  },
  {
   "cell_type": "code",
   "execution_count": null,
   "id": "a2d9d8bd-650e-4e0c-b1c5-c4b8b7b6bf80",
   "metadata": {},
   "outputs": [],
   "source": [
    "def calculate_choice_probabilities(Q, beta):\n",
    "    p = np.exp(Q*beta) / sum(np.exp(Q*beta)) \n",
    "    return p"
   ]
  },
  {
   "cell_type": "code",
   "execution_count": null,
   "id": "631c271a-fccb-4372-906c-da53e3936392",
   "metadata": {},
   "outputs": [],
   "source": [
    "def simulate_M3RescorlaWagner_v1(T, mu, alpha, beta, starting_q_values = [.5, .5]):\n",
    "    Q = np.array(starting_q_values)\n",
    "    Qs = []\n",
    "    deltas = []\n",
    "    actions = [] \n",
    "    rewards = []\n",
    "    for t in range(T): \n",
    "        Qs.append(Q.copy())\n",
    "        p = calculate_choice_probabilities(Q, beta)\n",
    "        action = choose(p) \n",
    "        actions.append(action) \n",
    "        reward = np.random.random() < mu[action]\n",
    "        rewards.append(int(reward))\n",
    "        delta = reward - Q[action] \n",
    "        deltas.append(delta)\n",
    "        Q[action] = Q[action] + alpha * delta\n",
    "    return actions, rewards, Qs, deltas"
   ]
  }
 ],
 "metadata": {
  "kernelspec": {
   "display_name": "Python 3",
   "language": "python",
   "name": "python3"
  }
 },
 "nbformat": 4,
 "nbformat_minor": 5
}
